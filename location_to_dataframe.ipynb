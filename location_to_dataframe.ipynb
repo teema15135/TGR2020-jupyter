{
 "cells": [
  {
   "cell_type": "code",
   "execution_count": 1,
   "metadata": {},
   "outputs": [],
   "source": [
    "import requests"
   ]
  },
  {
   "cell_type": "code",
   "execution_count": 2,
   "metadata": {},
   "outputs": [],
   "source": [
    "# use python simple server to serve json\n",
    "URL = \"http://localhost:8000/quiz-location-export.json\""
   ]
  },
  {
   "cell_type": "code",
   "execution_count": 3,
   "metadata": {},
   "outputs": [],
   "source": [
    "r = requests.get(url = URL)"
   ]
  },
  {
   "cell_type": "code",
   "execution_count": 4,
   "metadata": {},
   "outputs": [],
   "source": [
    "data = r.json()"
   ]
  },
  {
   "cell_type": "code",
   "execution_count": 5,
   "metadata": {},
   "outputs": [
    {
     "name": "stdout",
     "output_type": "stream",
     "text": [
      "[{'lat': 13.852349, 'lng': 100.582487, 'time': '2019-12-15T08:57:43.547+07:00'}, {'lat': 13.8523033, 'lng': 100.5825052, 'time': '2019-12-15T16:49:23.948+07:00'}, {'lat': 13.8523124, 'lng': 100.5825392, 'time': '2019-12-15T23:34:04.227+07:00'}, {'lat': 13.8523074, 'lng': 100.5825329, 'time': '2019-12-16T07:12:48.853+07:00'}, {'lat': 13.8523492, 'lng': 100.5825133, 'time': '2019-12-16T14:35:58.483+07:00'}, {'lat': 13.8523164, 'lng': 100.582543, 'time': '2019-12-16T21:43:13.947+07:00'}, {'lat': 13.8523419, 'lng': 100.5825251, 'time': '2019-12-17T08:12:32.329+07:00'}, {'lat': 13.8523153, 'lng': 100.5825469, 'time': '2019-12-17T13:29:33.285+07:00'}, {'lat': 13.8523319, 'lng': 100.5826179, 'time': '2019-12-17T20:10:47.477+07:00'}, {'lat': 13.8523368, 'lng': 100.5825252, 'time': '2019-12-18T07:13:22.128+07:00'}, {'lat': 13.8523182, 'lng': 100.582545, 'time': '2019-12-18T14:44:12.382+07:00'}, {'lat': 13.8522388, 'lng': 100.5826252, 'time': '2019-12-18T21:03:22.242+07:00'}, {'lat': 13.8521906, 'lng': 100.5824329, 'time': '2019-12-19T00:00:04.407+07:00'}, {'lat': 13.8521885, 'lng': 100.5823, 'time': '2019-12-19T08:00:04.102+07:00'}, {'lat': 13.8522637, 'lng': 100.582403, 'time': '2019-12-19T16:00:03.294+07:00'}, {'lat': 13.8524333, 'lng': 100.5822939, 'time': '2019-12-20T00:00:03.942+07:00'}, {'lat': 13.8522018, 'lng': 100.5824024, 'time': '2019-12-20T08:00:04.104+07:00'}, {'lat': 13.8523164, 'lng': 100.5823941, 'time': '2019-12-20T16:00:04.168+07:00'}, {'lat': 13.8523985, 'lng': 100.5825241, 'time': '2019-12-21T00:00:03.883+07:00'}, {'lat': 13.852554, 'lng': 100.582317, 'time': '2019-12-21T08:00:04.017+07:00'}, {'lat': 13.852425, 'lng': 100.5823989, 'time': '2019-12-21T16:00:04.181+07:00'}, {'lat': 13.8525655, 'lng': 100.582405, 'time': '2019-12-22T00:00:03.780+07:00'}, {'lat': 13.8524607, 'lng': 100.5826874, 'time': '2019-12-22T08:00:04.484+07:00'}, {'lat': 13.8524732, 'lng': 100.5824462, 'time': '2019-12-22T16:00:03.921+07:00'}, {'lat': 13.8522868, 'lng': 100.5823488, 'time': '2019-12-23T00:00:03.632+07:00'}, {'lat': 13.8525493, 'lng': 100.5826284, 'time': '2019-12-24T00:00:03.325+07:00'}, {'lat': 13.8523066, 'lng': 100.5825156, 'time': '2019-12-24T08:00:03.365+07:00'}, {'lat': 13.8522196, 'lng': 100.582467, 'time': '2019-12-24T16:00:03.385+07:00'}, {'lat': 13.852187, 'lng': 100.5826188, 'time': '2019-12-25T00:00:03.889+07:00'}, {'lat': 13.8521825, 'lng': 100.5823248, 'time': '2019-12-25T08:00:03.992+07:00'}, {'lat': 13.852219, 'lng': 100.5824119, 'time': '2019-12-25T16:00:03.918+07:00'}, {'lat': 13.8523878, 'lng': 100.5826178, 'time': '2019-12-26T00:00:03.503+07:00'}, {'lat': 13.8523176, 'lng': 100.5825517, 'time': '2019-12-26T08:00:03.461+07:00'}, {'lat': 13.8525657, 'lng': 100.5824888, 'time': '2019-12-26T16:00:03.478+07:00'}, {'lat': 13.8525362, 'lng': 100.5825783, 'time': '2019-12-27T00:00:04.042+07:00'}, {'lat': 13.8522375, 'lng': 100.5824391, 'time': '2019-12-27T08:00:03.853+07:00'}, {'lat': 13.8525074, 'lng': 100.5824978, 'time': '2019-12-27T16:00:03.423+07:00'}, {'lat': 13.8523821, 'lng': 100.5823024, 'time': '2019-12-28T00:00:03.158+07:00'}, {'lat': 13.8524793, 'lng': 100.5825394, 'time': '2019-12-28T08:00:03.834+07:00'}, {'lat': 13.8524007, 'lng': 100.5823841, 'time': '2019-12-28T16:00:04.122+07:00'}, {'lat': 13.8525278, 'lng': 100.5823766, 'time': '2019-12-29T00:00:04.158+07:00'}, {'lat': 13.852179, 'lng': 100.5823431, 'time': '2019-12-29T08:00:04.041+07:00'}, {'lat': 13.8525004, 'lng': 100.5823905, 'time': '2019-12-29T16:00:04.140+07:00'}, {'lat': 13.852208, 'lng': 100.5823316, 'time': '2019-12-30T00:00:03.786+07:00'}, {'lat': 13.8522071, 'lng': 100.5824469, 'time': '2019-12-30T08:00:03.432+07:00'}, {'lat': 13.8525325, 'lng': 100.5823705, 'time': '2019-12-30T16:00:03.224+07:00'}, {'lat': 13.8522951, 'lng': 100.5823852, 'time': '2019-12-31T00:00:03.188+07:00'}]\n"
     ]
    }
   ],
   "source": [
    "arr_data = []\n",
    "\n",
    "for key in data.keys():\n",
    "    try:\n",
    "        arr_data.append({\n",
    "            \"lat\" : data[key]['latitude'],\n",
    "            \"lng\" : data[key]['longtitude'],\n",
    "            \"time\": data[key]['timestamp'],\n",
    "        })\n",
    "    except:\n",
    "        None\n",
    "print(arr_data)"
   ]
  },
  {
   "cell_type": "markdown",
   "metadata": {},
   "source": [
    "## Into the pandas"
   ]
  },
  {
   "cell_type": "code",
   "execution_count": 6,
   "metadata": {},
   "outputs": [],
   "source": [
    "import pandas as pd"
   ]
  },
  {
   "cell_type": "code",
   "execution_count": 7,
   "metadata": {},
   "outputs": [],
   "source": [
    "df = pd.DataFrame(arr_data)"
   ]
  },
  {
   "cell_type": "code",
   "execution_count": 11,
   "metadata": {},
   "outputs": [
    {
     "data": {
      "text/html": [
       "<div>\n",
       "<style scoped>\n",
       "    .dataframe tbody tr th:only-of-type {\n",
       "        vertical-align: middle;\n",
       "    }\n",
       "\n",
       "    .dataframe tbody tr th {\n",
       "        vertical-align: top;\n",
       "    }\n",
       "\n",
       "    .dataframe thead th {\n",
       "        text-align: right;\n",
       "    }\n",
       "</style>\n",
       "<table border=\"1\" class=\"dataframe\">\n",
       "  <thead>\n",
       "    <tr style=\"text-align: right;\">\n",
       "      <th></th>\n",
       "      <th>lat</th>\n",
       "      <th>lng</th>\n",
       "      <th>time</th>\n",
       "    </tr>\n",
       "  </thead>\n",
       "  <tbody>\n",
       "    <tr>\n",
       "      <td>42</td>\n",
       "      <td>13.852500</td>\n",
       "      <td>100.582391</td>\n",
       "      <td>2019-12-29T16:00:04.140+07:00</td>\n",
       "    </tr>\n",
       "    <tr>\n",
       "      <td>43</td>\n",
       "      <td>13.852208</td>\n",
       "      <td>100.582332</td>\n",
       "      <td>2019-12-30T00:00:03.786+07:00</td>\n",
       "    </tr>\n",
       "    <tr>\n",
       "      <td>44</td>\n",
       "      <td>13.852207</td>\n",
       "      <td>100.582447</td>\n",
       "      <td>2019-12-30T08:00:03.432+07:00</td>\n",
       "    </tr>\n",
       "    <tr>\n",
       "      <td>45</td>\n",
       "      <td>13.852533</td>\n",
       "      <td>100.582370</td>\n",
       "      <td>2019-12-30T16:00:03.224+07:00</td>\n",
       "    </tr>\n",
       "    <tr>\n",
       "      <td>46</td>\n",
       "      <td>13.852295</td>\n",
       "      <td>100.582385</td>\n",
       "      <td>2019-12-31T00:00:03.188+07:00</td>\n",
       "    </tr>\n",
       "  </tbody>\n",
       "</table>\n",
       "</div>"
      ],
      "text/plain": [
       "          lat         lng                           time\n",
       "42  13.852500  100.582391  2019-12-29T16:00:04.140+07:00\n",
       "43  13.852208  100.582332  2019-12-30T00:00:03.786+07:00\n",
       "44  13.852207  100.582447  2019-12-30T08:00:03.432+07:00\n",
       "45  13.852533  100.582370  2019-12-30T16:00:03.224+07:00\n",
       "46  13.852295  100.582385  2019-12-31T00:00:03.188+07:00"
      ]
     },
     "execution_count": 11,
     "metadata": {},
     "output_type": "execute_result"
    }
   ],
   "source": [
    "df.tail()"
   ]
  },
  {
   "cell_type": "code",
   "execution_count": 9,
   "metadata": {},
   "outputs": [
    {
     "name": "stdout",
     "output_type": "stream",
     "text": [
      "(100.5821939, 100.5827874, 13.852079, 13.8526657)\n"
     ]
    },
    {
     "data": {
      "text/plain": [
       "<matplotlib.image.AxesImage at 0x1d5ec2919e8>"
      ]
     },
     "execution_count": 9,
     "metadata": {},
     "output_type": "execute_result"
    }
   ],
   "source": [
    "import numpy as np\n",
    "import pandas as pd\n",
    "import matplotlib.pyplot as plt\n",
    "BBox=(100.5821939, 100.5827874,13.852079, 13.8526657)\n",
    "ruh_m =plt.imread('map.png')\n",
    "fig, ax = plt.subplots(figsize = (8,7))\n",
    "ax.scatter(df.lng, df.lat, zorder=1, alpha= 0.8, c='g', s=40)\n",
    "ax.set_title('PM 2.5 TEAM 21 ')\n",
    "print(BBox)\n",
    "ax.set_xlim(BBox[0],BBox[1])\n",
    "ax.set_ylim(BBox[2],BBox[3])\n",
    "ax.imshow(ruh_m, zorder=0, extent = BBox, aspect= 'equal')"
   ]
  },
  {
   "cell_type": "code",
   "execution_count": null,
   "metadata": {},
   "outputs": [],
   "source": []
  }
 ],
 "metadata": {
  "kernelspec": {
   "display_name": "Python 3",
   "language": "python",
   "name": "python3"
  },
  "language_info": {
   "codemirror_mode": {
    "name": "ipython",
    "version": 3
   },
   "file_extension": ".py",
   "mimetype": "text/x-python",
   "name": "python",
   "nbconvert_exporter": "python",
   "pygments_lexer": "ipython3",
   "version": "3.7.1"
  }
 },
 "nbformat": 4,
 "nbformat_minor": 2
}
